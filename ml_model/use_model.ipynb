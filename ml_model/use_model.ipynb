{
 "cells": [
  {
   "cell_type": "code",
   "execution_count": 1,
   "metadata": {},
   "outputs": [
    {
     "name": "stdout",
     "output_type": "stream",
     "text": [
      "Requirement already satisfied: tensorflow in c:\\users\\arnav\\appdata\\local\\packages\\pythonsoftwarefoundation.python.3.11_qbz5n2kfra8p0\\localcache\\local-packages\\python311\\site-packages (2.15.0)\n",
      "Requirement already satisfied: opencv-python in c:\\users\\arnav\\appdata\\local\\packages\\pythonsoftwarefoundation.python.3.11_qbz5n2kfra8p0\\localcache\\local-packages\\python311\\site-packages (4.9.0.80)\n",
      "Requirement already satisfied: mediapipe in c:\\users\\arnav\\appdata\\local\\packages\\pythonsoftwarefoundation.python.3.11_qbz5n2kfra8p0\\localcache\\local-packages\\python311\\site-packages (0.10.9)\n",
      "Requirement already satisfied: scikit-learn in c:\\users\\arnav\\appdata\\local\\packages\\pythonsoftwarefoundation.python.3.11_qbz5n2kfra8p0\\localcache\\local-packages\\python311\\site-packages (1.3.2)\n",
      "Requirement already satisfied: matplotlib in c:\\users\\arnav\\appdata\\local\\packages\\pythonsoftwarefoundation.python.3.11_qbz5n2kfra8p0\\localcache\\local-packages\\python311\\site-packages (3.8.2)\n",
      "Requirement already satisfied: tensorflow-intel==2.15.0 in c:\\users\\arnav\\appdata\\local\\packages\\pythonsoftwarefoundation.python.3.11_qbz5n2kfra8p0\\localcache\\local-packages\\python311\\site-packages (from tensorflow) (2.15.0)\n",
      "Requirement already satisfied: absl-py>=1.0.0 in c:\\users\\arnav\\appdata\\local\\packages\\pythonsoftwarefoundation.python.3.11_qbz5n2kfra8p0\\localcache\\local-packages\\python311\\site-packages (from tensorflow-intel==2.15.0->tensorflow) (2.1.0)\n",
      "Requirement already satisfied: astunparse>=1.6.0 in c:\\users\\arnav\\appdata\\local\\packages\\pythonsoftwarefoundation.python.3.11_qbz5n2kfra8p0\\localcache\\local-packages\\python311\\site-packages (from tensorflow-intel==2.15.0->tensorflow) (1.6.3)\n",
      "Requirement already satisfied: flatbuffers>=23.5.26 in c:\\users\\arnav\\appdata\\local\\packages\\pythonsoftwarefoundation.python.3.11_qbz5n2kfra8p0\\localcache\\local-packages\\python311\\site-packages (from tensorflow-intel==2.15.0->tensorflow) (23.5.26)\n",
      "Requirement already satisfied: gast!=0.5.0,!=0.5.1,!=0.5.2,>=0.2.1 in c:\\users\\arnav\\appdata\\local\\packages\\pythonsoftwarefoundation.python.3.11_qbz5n2kfra8p0\\localcache\\local-packages\\python311\\site-packages (from tensorflow-intel==2.15.0->tensorflow) (0.5.4)\n",
      "Requirement already satisfied: google-pasta>=0.1.1 in c:\\users\\arnav\\appdata\\local\\packages\\pythonsoftwarefoundation.python.3.11_qbz5n2kfra8p0\\localcache\\local-packages\\python311\\site-packages (from tensorflow-intel==2.15.0->tensorflow) (0.2.0)\n",
      "Requirement already satisfied: h5py>=2.9.0 in c:\\users\\arnav\\appdata\\local\\packages\\pythonsoftwarefoundation.python.3.11_qbz5n2kfra8p0\\localcache\\local-packages\\python311\\site-packages (from tensorflow-intel==2.15.0->tensorflow) (3.10.0)\n",
      "Requirement already satisfied: libclang>=13.0.0 in c:\\users\\arnav\\appdata\\local\\packages\\pythonsoftwarefoundation.python.3.11_qbz5n2kfra8p0\\localcache\\local-packages\\python311\\site-packages (from tensorflow-intel==2.15.0->tensorflow) (16.0.6)\n",
      "Requirement already satisfied: ml-dtypes~=0.2.0 in c:\\users\\arnav\\appdata\\local\\packages\\pythonsoftwarefoundation.python.3.11_qbz5n2kfra8p0\\localcache\\local-packages\\python311\\site-packages (from tensorflow-intel==2.15.0->tensorflow) (0.2.0)\n",
      "Requirement already satisfied: numpy<2.0.0,>=1.23.5 in c:\\users\\arnav\\appdata\\local\\packages\\pythonsoftwarefoundation.python.3.11_qbz5n2kfra8p0\\localcache\\local-packages\\python311\\site-packages (from tensorflow-intel==2.15.0->tensorflow) (1.26.3)\n",
      "Requirement already satisfied: opt-einsum>=2.3.2 in c:\\users\\arnav\\appdata\\local\\packages\\pythonsoftwarefoundation.python.3.11_qbz5n2kfra8p0\\localcache\\local-packages\\python311\\site-packages (from tensorflow-intel==2.15.0->tensorflow) (3.3.0)\n",
      "Requirement already satisfied: packaging in c:\\users\\arnav\\appdata\\local\\packages\\pythonsoftwarefoundation.python.3.11_qbz5n2kfra8p0\\localcache\\local-packages\\python311\\site-packages (from tensorflow-intel==2.15.0->tensorflow) (23.2)\n",
      "Requirement already satisfied: protobuf!=4.21.0,!=4.21.1,!=4.21.2,!=4.21.3,!=4.21.4,!=4.21.5,<5.0.0dev,>=3.20.3 in c:\\users\\arnav\\appdata\\local\\packages\\pythonsoftwarefoundation.python.3.11_qbz5n2kfra8p0\\localcache\\local-packages\\python311\\site-packages (from tensorflow-intel==2.15.0->tensorflow) (3.20.3)\n",
      "Requirement already satisfied: setuptools in c:\\program files\\windowsapps\\pythonsoftwarefoundation.python.3.11_3.11.2032.0_x64__qbz5n2kfra8p0\\lib\\site-packages (from tensorflow-intel==2.15.0->tensorflow) (65.5.0)\n",
      "Requirement already satisfied: six>=1.12.0 in c:\\users\\arnav\\appdata\\local\\packages\\pythonsoftwarefoundation.python.3.11_qbz5n2kfra8p0\\localcache\\local-packages\\python311\\site-packages (from tensorflow-intel==2.15.0->tensorflow) (1.16.0)\n",
      "Requirement already satisfied: termcolor>=1.1.0 in c:\\users\\arnav\\appdata\\local\\packages\\pythonsoftwarefoundation.python.3.11_qbz5n2kfra8p0\\localcache\\local-packages\\python311\\site-packages (from tensorflow-intel==2.15.0->tensorflow) (2.4.0)\n",
      "Requirement already satisfied: typing-extensions>=3.6.6 in c:\\users\\arnav\\appdata\\local\\packages\\pythonsoftwarefoundation.python.3.11_qbz5n2kfra8p0\\localcache\\local-packages\\python311\\site-packages (from tensorflow-intel==2.15.0->tensorflow) (4.9.0)\n",
      "Requirement already satisfied: wrapt<1.15,>=1.11.0 in c:\\users\\arnav\\appdata\\local\\packages\\pythonsoftwarefoundation.python.3.11_qbz5n2kfra8p0\\localcache\\local-packages\\python311\\site-packages (from tensorflow-intel==2.15.0->tensorflow) (1.14.1)\n",
      "Requirement already satisfied: tensorflow-io-gcs-filesystem>=0.23.1 in c:\\users\\arnav\\appdata\\local\\packages\\pythonsoftwarefoundation.python.3.11_qbz5n2kfra8p0\\localcache\\local-packages\\python311\\site-packages (from tensorflow-intel==2.15.0->tensorflow) (0.31.0)\n",
      "Requirement already satisfied: grpcio<2.0,>=1.24.3 in c:\\users\\arnav\\appdata\\local\\packages\\pythonsoftwarefoundation.python.3.11_qbz5n2kfra8p0\\localcache\\local-packages\\python311\\site-packages (from tensorflow-intel==2.15.0->tensorflow) (1.60.0)\n",
      "Requirement already satisfied: tensorboard<2.16,>=2.15 in c:\\users\\arnav\\appdata\\local\\packages\\pythonsoftwarefoundation.python.3.11_qbz5n2kfra8p0\\localcache\\local-packages\\python311\\site-packages (from tensorflow-intel==2.15.0->tensorflow) (2.15.1)\n",
      "Requirement already satisfied: tensorflow-estimator<2.16,>=2.15.0 in c:\\users\\arnav\\appdata\\local\\packages\\pythonsoftwarefoundation.python.3.11_qbz5n2kfra8p0\\localcache\\local-packages\\python311\\site-packages (from tensorflow-intel==2.15.0->tensorflow) (2.15.0)\n",
      "Requirement already satisfied: keras<2.16,>=2.15.0 in c:\\users\\arnav\\appdata\\local\\packages\\pythonsoftwarefoundation.python.3.11_qbz5n2kfra8p0\\localcache\\local-packages\\python311\\site-packages (from tensorflow-intel==2.15.0->tensorflow) (2.15.0)\n",
      "Requirement already satisfied: attrs>=19.1.0 in c:\\users\\arnav\\appdata\\local\\packages\\pythonsoftwarefoundation.python.3.11_qbz5n2kfra8p0\\localcache\\local-packages\\python311\\site-packages (from mediapipe) (23.2.0)\n",
      "Requirement already satisfied: opencv-contrib-python in c:\\users\\arnav\\appdata\\local\\packages\\pythonsoftwarefoundation.python.3.11_qbz5n2kfra8p0\\localcache\\local-packages\\python311\\site-packages (from mediapipe) (4.9.0.80)\n",
      "Requirement already satisfied: sounddevice>=0.4.4 in c:\\users\\arnav\\appdata\\local\\packages\\pythonsoftwarefoundation.python.3.11_qbz5n2kfra8p0\\localcache\\local-packages\\python311\\site-packages (from mediapipe) (0.4.6)\n",
      "Requirement already satisfied: scipy>=1.5.0 in c:\\users\\arnav\\appdata\\local\\packages\\pythonsoftwarefoundation.python.3.11_qbz5n2kfra8p0\\localcache\\local-packages\\python311\\site-packages (from scikit-learn) (1.11.4)\n",
      "Requirement already satisfied: joblib>=1.1.1 in c:\\users\\arnav\\appdata\\local\\packages\\pythonsoftwarefoundation.python.3.11_qbz5n2kfra8p0\\localcache\\local-packages\\python311\\site-packages (from scikit-learn) (1.3.2)\n",
      "Requirement already satisfied: threadpoolctl>=2.0.0 in c:\\users\\arnav\\appdata\\local\\packages\\pythonsoftwarefoundation.python.3.11_qbz5n2kfra8p0\\localcache\\local-packages\\python311\\site-packages (from scikit-learn) (3.2.0)\n",
      "Requirement already satisfied: contourpy>=1.0.1 in c:\\users\\arnav\\appdata\\local\\packages\\pythonsoftwarefoundation.python.3.11_qbz5n2kfra8p0\\localcache\\local-packages\\python311\\site-packages (from matplotlib) (1.2.0)\n",
      "Requirement already satisfied: cycler>=0.10 in c:\\users\\arnav\\appdata\\local\\packages\\pythonsoftwarefoundation.python.3.11_qbz5n2kfra8p0\\localcache\\local-packages\\python311\\site-packages (from matplotlib) (0.12.1)\n",
      "Requirement already satisfied: fonttools>=4.22.0 in c:\\users\\arnav\\appdata\\local\\packages\\pythonsoftwarefoundation.python.3.11_qbz5n2kfra8p0\\localcache\\local-packages\\python311\\site-packages (from matplotlib) (4.47.2)\n",
      "Requirement already satisfied: kiwisolver>=1.3.1 in c:\\users\\arnav\\appdata\\local\\packages\\pythonsoftwarefoundation.python.3.11_qbz5n2kfra8p0\\localcache\\local-packages\\python311\\site-packages (from matplotlib) (1.4.5)\n",
      "Requirement already satisfied: pillow>=8 in c:\\users\\arnav\\appdata\\local\\packages\\pythonsoftwarefoundation.python.3.11_qbz5n2kfra8p0\\localcache\\local-packages\\python311\\site-packages (from matplotlib) (10.2.0)\n",
      "Requirement already satisfied: pyparsing>=2.3.1 in c:\\users\\arnav\\appdata\\local\\packages\\pythonsoftwarefoundation.python.3.11_qbz5n2kfra8p0\\localcache\\local-packages\\python311\\site-packages (from matplotlib) (3.1.1)\n",
      "Requirement already satisfied: python-dateutil>=2.7 in c:\\users\\arnav\\appdata\\local\\packages\\pythonsoftwarefoundation.python.3.11_qbz5n2kfra8p0\\localcache\\local-packages\\python311\\site-packages (from matplotlib) (2.8.2)\n",
      "Requirement already satisfied: CFFI>=1.0 in c:\\users\\arnav\\appdata\\local\\packages\\pythonsoftwarefoundation.python.3.11_qbz5n2kfra8p0\\localcache\\local-packages\\python311\\site-packages (from sounddevice>=0.4.4->mediapipe) (1.16.0)\n",
      "Requirement already satisfied: wheel<1.0,>=0.23.0 in c:\\users\\arnav\\appdata\\local\\packages\\pythonsoftwarefoundation.python.3.11_qbz5n2kfra8p0\\localcache\\local-packages\\python311\\site-packages (from astunparse>=1.6.0->tensorflow-intel==2.15.0->tensorflow) (0.42.0)\n",
      "Requirement already satisfied: pycparser in c:\\users\\arnav\\appdata\\local\\packages\\pythonsoftwarefoundation.python.3.11_qbz5n2kfra8p0\\localcache\\local-packages\\python311\\site-packages (from CFFI>=1.0->sounddevice>=0.4.4->mediapipe) (2.21)\n",
      "Requirement already satisfied: google-auth<3,>=1.6.3 in c:\\users\\arnav\\appdata\\local\\packages\\pythonsoftwarefoundation.python.3.11_qbz5n2kfra8p0\\localcache\\local-packages\\python311\\site-packages (from tensorboard<2.16,>=2.15->tensorflow-intel==2.15.0->tensorflow) (2.26.2)\n",
      "Requirement already satisfied: google-auth-oauthlib<2,>=0.5 in c:\\users\\arnav\\appdata\\local\\packages\\pythonsoftwarefoundation.python.3.11_qbz5n2kfra8p0\\localcache\\local-packages\\python311\\site-packages (from tensorboard<2.16,>=2.15->tensorflow-intel==2.15.0->tensorflow) (1.2.0)\n",
      "Requirement already satisfied: markdown>=2.6.8 in c:\\users\\arnav\\appdata\\local\\packages\\pythonsoftwarefoundation.python.3.11_qbz5n2kfra8p0\\localcache\\local-packages\\python311\\site-packages (from tensorboard<2.16,>=2.15->tensorflow-intel==2.15.0->tensorflow) (3.5.2)\n",
      "Requirement already satisfied: requests<3,>=2.21.0 in c:\\users\\arnav\\appdata\\local\\packages\\pythonsoftwarefoundation.python.3.11_qbz5n2kfra8p0\\localcache\\local-packages\\python311\\site-packages (from tensorboard<2.16,>=2.15->tensorflow-intel==2.15.0->tensorflow) (2.31.0)\n",
      "Requirement already satisfied: tensorboard-data-server<0.8.0,>=0.7.0 in c:\\users\\arnav\\appdata\\local\\packages\\pythonsoftwarefoundation.python.3.11_qbz5n2kfra8p0\\localcache\\local-packages\\python311\\site-packages (from tensorboard<2.16,>=2.15->tensorflow-intel==2.15.0->tensorflow) (0.7.2)\n",
      "Requirement already satisfied: werkzeug>=1.0.1 in c:\\users\\arnav\\appdata\\local\\packages\\pythonsoftwarefoundation.python.3.11_qbz5n2kfra8p0\\localcache\\local-packages\\python311\\site-packages (from tensorboard<2.16,>=2.15->tensorflow-intel==2.15.0->tensorflow) (3.0.1)\n",
      "Requirement already satisfied: cachetools<6.0,>=2.0.0 in c:\\users\\arnav\\appdata\\local\\packages\\pythonsoftwarefoundation.python.3.11_qbz5n2kfra8p0\\localcache\\local-packages\\python311\\site-packages (from google-auth<3,>=1.6.3->tensorboard<2.16,>=2.15->tensorflow-intel==2.15.0->tensorflow) (5.3.2)\n",
      "Requirement already satisfied: pyasn1-modules>=0.2.1 in c:\\users\\arnav\\appdata\\local\\packages\\pythonsoftwarefoundation.python.3.11_qbz5n2kfra8p0\\localcache\\local-packages\\python311\\site-packages (from google-auth<3,>=1.6.3->tensorboard<2.16,>=2.15->tensorflow-intel==2.15.0->tensorflow) (0.3.0)\n",
      "Requirement already satisfied: rsa<5,>=3.1.4 in c:\\users\\arnav\\appdata\\local\\packages\\pythonsoftwarefoundation.python.3.11_qbz5n2kfra8p0\\localcache\\local-packages\\python311\\site-packages (from google-auth<3,>=1.6.3->tensorboard<2.16,>=2.15->tensorflow-intel==2.15.0->tensorflow) (4.9)\n",
      "Requirement already satisfied: requests-oauthlib>=0.7.0 in c:\\users\\arnav\\appdata\\local\\packages\\pythonsoftwarefoundation.python.3.11_qbz5n2kfra8p0\\localcache\\local-packages\\python311\\site-packages (from google-auth-oauthlib<2,>=0.5->tensorboard<2.16,>=2.15->tensorflow-intel==2.15.0->tensorflow) (1.3.1)\n",
      "Requirement already satisfied: charset-normalizer<4,>=2 in c:\\users\\arnav\\appdata\\local\\packages\\pythonsoftwarefoundation.python.3.11_qbz5n2kfra8p0\\localcache\\local-packages\\python311\\site-packages (from requests<3,>=2.21.0->tensorboard<2.16,>=2.15->tensorflow-intel==2.15.0->tensorflow) (3.3.2)\n",
      "Requirement already satisfied: idna<4,>=2.5 in c:\\users\\arnav\\appdata\\local\\packages\\pythonsoftwarefoundation.python.3.11_qbz5n2kfra8p0\\localcache\\local-packages\\python311\\site-packages (from requests<3,>=2.21.0->tensorboard<2.16,>=2.15->tensorflow-intel==2.15.0->tensorflow) (3.6)\n",
      "Requirement already satisfied: urllib3<3,>=1.21.1 in c:\\users\\arnav\\appdata\\local\\packages\\pythonsoftwarefoundation.python.3.11_qbz5n2kfra8p0\\localcache\\local-packages\\python311\\site-packages (from requests<3,>=2.21.0->tensorboard<2.16,>=2.15->tensorflow-intel==2.15.0->tensorflow) (2.1.0)\n",
      "Requirement already satisfied: certifi>=2017.4.17 in c:\\users\\arnav\\appdata\\local\\packages\\pythonsoftwarefoundation.python.3.11_qbz5n2kfra8p0\\localcache\\local-packages\\python311\\site-packages (from requests<3,>=2.21.0->tensorboard<2.16,>=2.15->tensorflow-intel==2.15.0->tensorflow) (2023.11.17)\n",
      "Requirement already satisfied: MarkupSafe>=2.1.1 in c:\\users\\arnav\\appdata\\local\\packages\\pythonsoftwarefoundation.python.3.11_qbz5n2kfra8p0\\localcache\\local-packages\\python311\\site-packages (from werkzeug>=1.0.1->tensorboard<2.16,>=2.15->tensorflow-intel==2.15.0->tensorflow) (2.1.4)\n",
      "Requirement already satisfied: pyasn1<0.6.0,>=0.4.6 in c:\\users\\arnav\\appdata\\local\\packages\\pythonsoftwarefoundation.python.3.11_qbz5n2kfra8p0\\localcache\\local-packages\\python311\\site-packages (from pyasn1-modules>=0.2.1->google-auth<3,>=1.6.3->tensorboard<2.16,>=2.15->tensorflow-intel==2.15.0->tensorflow) (0.5.1)\n",
      "Requirement already satisfied: oauthlib>=3.0.0 in c:\\users\\arnav\\appdata\\local\\packages\\pythonsoftwarefoundation.python.3.11_qbz5n2kfra8p0\\localcache\\local-packages\\python311\\site-packages (from requests-oauthlib>=0.7.0->google-auth-oauthlib<2,>=0.5->tensorboard<2.16,>=2.15->tensorflow-intel==2.15.0->tensorflow) (3.2.2)\n"
     ]
    }
   ],
   "source": [
    "\n",
    "!pip3 install tensorflow opencv-python mediapipe scikit-learn matplotlib"
   ]
  },
  {
   "cell_type": "code",
   "execution_count": 2,
   "metadata": {},
   "outputs": [
    {
     "name": "stdout",
     "output_type": "stream",
     "text": [
      "WARNING:tensorflow:From C:\\Users\\arnav\\AppData\\Local\\Packages\\PythonSoftwareFoundation.Python.3.11_qbz5n2kfra8p0\\LocalCache\\local-packages\\Python311\\site-packages\\keras\\src\\losses.py:2976: The name tf.losses.sparse_softmax_cross_entropy is deprecated. Please use tf.compat.v1.losses.sparse_softmax_cross_entropy instead.\n",
      "\n"
     ]
    }
   ],
   "source": [
    "import cv2 \n",
    "import numpy as np \n",
    "import os # easier to acess files\n",
    "from matplotlib import pyplot as plt\n",
    "import time\n",
    "import mediapipe as mp"
   ]
  },
  {
   "cell_type": "code",
   "execution_count": 3,
   "metadata": {},
   "outputs": [],
   "source": [
    "mp_holistic = mp.solutions.holistic # holistic model - make detections\n",
    "mp_drawing = mp.solutions.drawing_utils # drawing utilities - draw detections"
   ]
  },
  {
   "cell_type": "code",
   "execution_count": 4,
   "metadata": {},
   "outputs": [],
   "source": [
    "# image is a photo\n",
    "# model is an mp_holisitic model\n",
    "\n",
    "# Steps to use media pipe:\n",
    "# 1. grab image and convert from bgr to rgb, then unwritable (saves memory)\n",
    "# 2. make our detection\n",
    "# 3. convert back to writeable and bgr\n",
    "\n",
    "\n",
    "\n",
    "def mediapipe_detection(image, model):\n",
    "    image = cv2.cvtColor(image, cv2.COLOR_BGR2RGB) # color conversion\n",
    "    # cv2Color converts images from one colorspace to another\n",
    "    image.flags.writeable = False\n",
    "    results = model.process(image) # make prediction from image grame\n",
    "    image.flags.writeable = True\n",
    "    image = cv2.cvtColor(image, cv2.COLOR_RGB2BGR) # color conversion\n",
    "    return image, results"
   ]
  },
  {
   "cell_type": "code",
   "execution_count": 5,
   "metadata": {},
   "outputs": [],
   "source": [
    "def draw_styled_landmarks(image, results):\n",
    "    \n",
    "    mp_drawing.draw_landmarks(image, results.face_landmarks, mp_holistic.FACEMESH_TESSELATION,\n",
    "                                mp_drawing.DrawingSpec(color=(80,110,10), thickness=1, circle_radius=1),\n",
    "                                mp_drawing.DrawingSpec(color=(80,256,121), thickness=1, circle_radius=1)) # draw face connections\n",
    "    mp_drawing.draw_landmarks(image, results.pose_landmarks, mp_holistic.POSE_CONNECTIONS,\n",
    "                                mp_drawing.DrawingSpec(color=(80,110,10), thickness=2, circle_radius=4),\n",
    "                                mp_drawing.DrawingSpec(color=(80,44,121), thickness=2, circle_radius=2)) # draw face connections\n",
    "    mp_drawing.draw_landmarks(image, results.left_hand_landmarks, mp_holistic.HAND_CONNECTIONS,\n",
    "                                mp_drawing.DrawingSpec(color=(121,22,76), thickness=2, circle_radius=4),\n",
    "                                mp_drawing.DrawingSpec(color=(121,44,250), thickness=2, circle_radius=2)) # draw left hand connections\n",
    "    mp_drawing.draw_landmarks(image, results.right_hand_landmarks, mp_holistic.HAND_CONNECTIONS,\n",
    "                                mp_drawing.DrawingSpec(color=(245,117,66), thickness=2, circle_radius=4),\n",
    "                                mp_drawing.DrawingSpec(color=(245,66,230), thickness=2, circle_radius=2))"
   ]
  },
  {
   "cell_type": "code",
   "execution_count": 6,
   "metadata": {},
   "outputs": [],
   "source": [
    "# # code to access openCV\n",
    "# import cv2\n",
    "# cap = cv2.VideoCapture(0, cv2.CAP_DSHOW) # 0 is the default camera\n",
    "# with mp_holistic.Holistic(min_detection_confidence=0.5, min_tracking_confidence=0.5) as holistic:\n",
    "# \twhile cap.isOpened(): # while camera is on\n",
    "\n",
    "# \t\t# Read feed (reading frame from webcam)\n",
    "# \t\tret, frame = cap.read()\n",
    "\t\t\n",
    "# \t\timage, results = mediapipe_detection(frame, holistic)\n",
    "# \t\tprint(results)\n",
    "# \t\t# draw landmarks\n",
    "# \t\tdraw_styled_landmarks(image, results)\n",
    "# \t\t# show frame to screen\n",
    "# \t\tcv2.imshow('OpenCV Feed', image)\n",
    "\n",
    "# \t# break gracefully\n",
    "# \t\tif cv2.waitKey(10) & 0xFF == ord('q'): #if key is pressed and its q\n",
    "# \t\t\tbreak\n",
    "\n",
    "# # release cv2 and close all windows\n",
    "# cap.release()\n",
    "# cv2.destroyAllWindows()"
   ]
  },
  {
   "cell_type": "code",
   "execution_count": 7,
   "metadata": {},
   "outputs": [],
   "source": [
    "# draw_landmarks(frame, results)"
   ]
  },
  {
   "cell_type": "code",
   "execution_count": 8,
   "metadata": {},
   "outputs": [],
   "source": [
    "\n",
    "# plt.imshow(cv2.cvtColor(frame, cv2.COLOR_BGR2RGB))"
   ]
  },
  {
   "cell_type": "code",
   "execution_count": 9,
   "metadata": {},
   "outputs": [],
   "source": [
    "# # diffe\n",
    "# results.face_landmarks"
   ]
  },
  {
   "cell_type": "markdown",
   "metadata": {},
   "source": [
    "Extract keypoint values"
   ]
  },
  {
   "cell_type": "code",
   "execution_count": 10,
   "metadata": {},
   "outputs": [],
   "source": [
    "# pose = []\n",
    "# for res in results.pose_landmarks.landmark:\n",
    "#     test = np.array([res.x, res.y, res.z, res.visibility])\n",
    "#     pose.append(test)\n",
    "# for loop way of below code"
   ]
  },
  {
   "cell_type": "code",
   "execution_count": 11,
   "metadata": {},
   "outputs": [],
   "source": [
    "# pose = np.array([[res.x, res.y, res.z, res.visibility] for res in results.pose_landmarks.landmark]).flatten() if results.pose_landmarks else np.zeroes(132)\n",
    "# # makes pose array with x,y,z and visibility, and makes list of lists into just a big list\n",
    "\n",
    "# # each hand has 21 landmarks; each landmark has x, y and z coordinate values each; thus empty arrays (when hand not visible) should be 21*3=63\n",
    "# lh = np.array([[res.x, res.y, res.z] for res in results.left_hand_landmarks.landmark]).flatten() if results.left_hand_landmarks else np.zeros(21*3)\n",
    "# rh = np.array([[res.x, res.y, res.z] for res in results.right_hand_landmarks.landmark]).flatten() if results.right_hand_landmarks else np.zeros(21*3)\n",
    "\n",
    "# face = np.array([[res.x, res.y, res.z] for res in results.face_landmarks.landmark]).flatten() if results.face_landmarks else np.zeros(1404)"
   ]
  },
  {
   "cell_type": "code",
   "execution_count": 12,
   "metadata": {},
   "outputs": [],
   "source": [
    "def extract_keypoints(results):\n",
    "    pose = np.array([[res.x, res.y, res.z, res.visibility] for res in results.pose_landmarks.landmark]).flatten() if results.pose_landmarks else np.zeros(33*4)\n",
    "    # makes pose array with x,y,z and visibility, and makes list of lists into just a big list\n",
    "\n",
    "    # each hand has 21 landmarks; each landmark has x, y and z coordinate values each; thus empty arrays (when hand not visible) should be 21*3=63\n",
    "    lh = np.array([[res.x, res.y, res.z] for res in results.left_hand_landmarks.landmark]).flatten() if results.left_hand_landmarks else np.zeros(21*3)\n",
    "    rh = np.array([[res.x, res.y, res.z] for res in results.right_hand_landmarks.landmark]).flatten() if results.right_hand_landmarks else np.zeros(21*3)\n",
    "\n",
    "    face = np.array([[res.x, res.y, res.z] for res in results.face_landmarks.landmark]).flatten() if results.face_landmarks else np.zeros(468*3)\n",
    "    return np.concatenate([pose, face, lh, rh])"
   ]
  },
  {
   "cell_type": "code",
   "execution_count": 13,
   "metadata": {},
   "outputs": [],
   "source": [
    "# extract_keypoints(results)"
   ]
  },
  {
   "cell_type": "code",
   "execution_count": 14,
   "metadata": {},
   "outputs": [],
   "source": [
    "# path for exported data, numpy arrays\n",
    "DATA_PATH = os.path.join(\"MP_Data\")\n",
    "\n",
    "#Actions that we try to detect\n",
    "actions = np.array(['hello', 'thanks', 'iloveyou'])\n",
    "\n",
    "# thirty videos with of data\n",
    "no_sequences = 30\n",
    "\n",
    "# videos are going to be 30 frames of length\n",
    "sequence_length = 30\n",
    "\n",
    "#1662 datapoints, 30 "
   ]
  },
  {
   "cell_type": "code",
   "execution_count": 15,
   "metadata": {},
   "outputs": [],
   "source": [
    "# # for each action we have a folder\n",
    "# # hello\n",
    "# # - each action has no_sequence folders \n",
    "# # - 0 (frame 1, frame 2, ... Frame 30)\n",
    "# # - 1\n",
    "# # - 2\n",
    "# # ... \n",
    "# # - 29\n",
    "# # - - each numbered folder will have 30 frames (30 arrays) (sequence lenght)\n",
    "\n",
    "\n",
    "# # thanks\n",
    "# # i love you\n",
    "\n",
    "\n",
    "# for action in actions:\n",
    "#     # for each action\n",
    "#     for sequence in range(no_sequences):\n",
    "#         try:\n",
    "#             # if folder already exist, will pass, else make numbered folders in action\n",
    "#             os.makedirs(os.path.join(DATA_PATH, action, str(sequence)))\n",
    "#         except:\n",
    "#             pass"
   ]
  },
  {
   "cell_type": "code",
   "execution_count": 16,
   "metadata": {},
   "outputs": [],
   "source": [
    "# # code to access openCV\n",
    "\n",
    "\n",
    "# cap = cv2.VideoCapture(0, cv2.CAP_DSHOW) # 0 is the default camera\n",
    "\n",
    "# # with is used to handle resource management\n",
    "# # set mediapipe model\n",
    "\n",
    "# # min detection is initial detection, tracking confidence is preceding tracking confidence\n",
    "# # if you want higher inital confidence in answer, then increase it and vice versa\n",
    "# with mp_holistic.Holistic(min_detection_confidence=0.5, min_tracking_confidence=0.5) as holistic:\n",
    "\t\n",
    "#     # replacing while cap is open\n",
    "#     for action in actions:\n",
    "#           for sequence in range(no_sequences):\n",
    "#                 for frame_num in range(sequence_length):\n",
    "#                             # Read feed (reading frame from webcam)\n",
    "#                             ret, frame = cap.read()\n",
    "\n",
    "#                             # make detections\n",
    "#                             image, results = mediapipe_detection(frame, holistic)\n",
    "#                             print(results)\n",
    "\n",
    "#                             # draw landmarks\n",
    "#                             draw_styled_landmarks(image, results)\n",
    "\n",
    "                            \n",
    "                            \n",
    "#                             # apply weight logic\n",
    "#                             if frame_num == 0:\n",
    "#                                   # image, text, position, font, font size, color\n",
    "#                                   cv2.putText(image, 'Start collection', (120, 200), \n",
    "#                                   cv2.FONT_HERSHEY_SIMPLEX, 1, (0, 255,0), 5, cv2.LINE_AA)\n",
    "#                                   cv2.putText(image, 'Collecting frames for {} Video Number {}'.format(action, sequence), (15, 50), \n",
    "#                                   cv2.FONT_HERSHEY_SIMPLEX, 1, (0, 255,0), 5, cv2.LINE_AA)\n",
    "#                                   cv2.waitKey(2000) # 2 second break\n",
    "#                             else:\n",
    "#                                   cv2.putText(image, 'Collecting frames for {} Video Number {}'.format(action, sequence), (15, 50), \n",
    "#                                   cv2.FONT_HERSHEY_SIMPLEX, 1, (0, 255,0), 5, cv2.LINE_AA)\n",
    "\n",
    "#                             # show frame to screen\n",
    "#                             cv2.imshow('OpenCV Feed', image)\n",
    "\n",
    "#                             # new -- export keypoints\n",
    "#                             keypoints = extract_keypoints(results)\n",
    "#                             npy_path = os.path.join(DATA_PATH, action, str(sequence), str(frame_num))\n",
    "#                             np.save(npy_path, keypoints)\n",
    "                            \n",
    "                            \n",
    "#                             # gracefully break\n",
    "#                             if cv2.waitKey(1) & 0xFF == ord('q'):\n",
    "#                                   break\n",
    "\n",
    "# # release cv2 and close all windows\n",
    "# cv2.destroyAllWindows()\n",
    "# cv2.waitKey(1)\n",
    "# cap.release()"
   ]
  },
  {
   "cell_type": "code",
   "execution_count": 17,
   "metadata": {},
   "outputs": [],
   "source": [
    "# cap.release()\n",
    "# cv2.destroyAllWindows()"
   ]
  },
  {
   "cell_type": "code",
   "execution_count": 18,
   "metadata": {},
   "outputs": [],
   "source": [
    "from sklearn.model_selection import train_test_split # used for training and testing\n",
    "from tensorflow.keras.utils import to_categorical # used to make labels"
   ]
  },
  {
   "cell_type": "code",
   "execution_count": 19,
   "metadata": {},
   "outputs": [],
   "source": [
    "# label_map = {label:num for num, label in enumerate(actions)}\n",
    "# label_map"
   ]
  },
  {
   "cell_type": "code",
   "execution_count": 20,
   "metadata": {},
   "outputs": [],
   "source": [
    "# sequences, labels = [], []\n",
    "# # sequences are feature data (X), labels are target data (y)\n",
    "# for action in actions:\n",
    "#     for sequence in range(no_sequences):\n",
    "#         window = [] # all frames for specific sequence (video)\n",
    "#         for frame_num in range(sequence_length):\n",
    "#             res = np.load(os.path.join(DATA_PATH, action, str(sequence), \"{}.npy\".format(frame_num)))\n",
    "#             # loads numpy frame 0, frame 1, .. \n",
    "#             window.append(res)\n",
    "#         sequences.append(window)\n",
    "#         labels.append(label_map[action])\n",
    "#         # append "
   ]
  },
  {
   "cell_type": "code",
   "execution_count": 21,
   "metadata": {},
   "outputs": [],
   "source": [
    "# X = np.array(sequences) # makes to np array\n",
    "# y = to_categorical(labels).astype(int) # uses one hot encoding to prevent bias\n"
   ]
  },
  {
   "cell_type": "code",
   "execution_count": 22,
   "metadata": {},
   "outputs": [],
   "source": [
    "# X_train, X_test, y_train, y_test = train_test_split(X, y, test_size=0.05) # splits data"
   ]
  },
  {
   "cell_type": "code",
   "execution_count": 23,
   "metadata": {},
   "outputs": [],
   "source": [
    "from tensorflow.keras.models import Sequential # Sequential lets you build a sequential NN\n",
    "from tensorflow.keras.layers import LSTM, Dense # LSTM is temporal (involves time) and lets build model\n",
    "from tensorflow.keras.callbacks import TensorBoard # allows to logging in tensor board"
   ]
  },
  {
   "cell_type": "code",
   "execution_count": 24,
   "metadata": {},
   "outputs": [],
   "source": [
    "# # Tensorboard is webapp to see neural network training\n",
    "\n",
    "# log_dir = os.path.join(\"Logs\")\n",
    "# tb_callback = TensorBoard(log_dir=log_dir)"
   ]
  },
  {
   "cell_type": "code",
   "execution_count": 25,
   "metadata": {},
   "outputs": [
    {
     "name": "stdout",
     "output_type": "stream",
     "text": [
      "WARNING:tensorflow:From C:\\Users\\arnav\\AppData\\Local\\Packages\\PythonSoftwareFoundation.Python.3.11_qbz5n2kfra8p0\\LocalCache\\local-packages\\Python311\\site-packages\\keras\\src\\backend.py:873: The name tf.get_default_graph is deprecated. Please use tf.compat.v1.get_default_graph instead.\n",
      "\n"
     ]
    }
   ],
   "source": [
    "model = Sequential() # easy to make neural network\n",
    "\n",
    "# 3 sets of lstm levels \n",
    "# first adds 64 neurons, and if it needs to pass to next level return seqs must be true, 30 frames with 1662 datapoints\n",
    "# lstm layer is good for long term sequences\n",
    "# dont return lstm layer on last layer\n",
    "model.add(LSTM(64, return_sequences=True, activation='relu', input_shape=(30, 1662)))\n",
    "model.add(LSTM(128, return_sequences=True, activation='relu'))\n",
    "model.add(LSTM(64, return_sequences=False, activation='relu'))\n",
    "model.add(Dense(64, activation='relu'))\n",
    "model.add(Dense(32, activation='relu'))\n",
    "model.add(Dense(actions.shape[0], activation='softmax'))\n",
    "\n",
    "# actions will turn output into 3 layers, and softmax will show probabiliies from sum"
   ]
  },
  {
   "cell_type": "code",
   "execution_count": 26,
   "metadata": {},
   "outputs": [
    {
     "name": "stdout",
     "output_type": "stream",
     "text": [
      "WARNING:tensorflow:From C:\\Users\\arnav\\AppData\\Local\\Packages\\PythonSoftwareFoundation.Python.3.11_qbz5n2kfra8p0\\LocalCache\\local-packages\\Python311\\site-packages\\keras\\src\\optimizers\\__init__.py:309: The name tf.train.Optimizer is deprecated. Please use tf.compat.v1.train.Optimizer instead.\n",
      "\n"
     ]
    }
   ],
   "source": [
    "model.compile(optimizer='Adam', loss=\"categorical_crossentropy\", metrics=[\"categorical_accuracy\"])\n",
    "# loss function must be categorical (when multiclass data), binary class uses binary entropy, regression is mean square error"
   ]
  },
  {
   "cell_type": "code",
   "execution_count": 27,
   "metadata": {},
   "outputs": [],
   "source": [
    "# model.fit(X_train, y_train, epochs=500, callbacks=[tb_callback])"
   ]
  },
  {
   "cell_type": "code",
   "execution_count": 28,
   "metadata": {},
   "outputs": [],
   "source": [
    "# model.summary()"
   ]
  },
  {
   "cell_type": "code",
   "execution_count": 29,
   "metadata": {},
   "outputs": [],
   "source": [
    "# res = model.predict(X_test)\n",
    "# actions[np.argmax(res[3])]"
   ]
  },
  {
   "cell_type": "code",
   "execution_count": 30,
   "metadata": {},
   "outputs": [],
   "source": [
    "# actions[np.argmax(y_test[3])]"
   ]
  },
  {
   "cell_type": "code",
   "execution_count": 31,
   "metadata": {},
   "outputs": [],
   "source": [
    "model.load_weights('action.h5')"
   ]
  },
  {
   "cell_type": "code",
   "execution_count": 32,
   "metadata": {},
   "outputs": [],
   "source": [
    "# from sklearn.metrics import multilabel_confusion_matrix, accuracy_score"
   ]
  },
  {
   "cell_type": "code",
   "execution_count": 33,
   "metadata": {},
   "outputs": [],
   "source": [
    "# yhat = model.predict(X_test)"
   ]
  },
  {
   "cell_type": "code",
   "execution_count": 34,
   "metadata": {},
   "outputs": [],
   "source": [
    "# ytrue = np.argmax(y_test, axis=1).tolist() # conv\n",
    "# yhat = np.argmax(yhat, axis =1).tolist()"
   ]
  },
  {
   "cell_type": "code",
   "execution_count": 35,
   "metadata": {},
   "outputs": [],
   "source": [
    "# multilabel_confusion_matrix(ytrue, yhat)"
   ]
  },
  {
   "cell_type": "code",
   "execution_count": 36,
   "metadata": {},
   "outputs": [],
   "source": [
    "# accuracy_score(ytrue, yhat)"
   ]
  },
  {
   "cell_type": "code",
   "execution_count": 37,
   "metadata": {},
   "outputs": [],
   "source": [
    "# # load model from gen1.h5\n",
    "# from tensorflow.keras.models import load_model\n",
    "# model = load_model('gen1.h5')"
   ]
  },
  {
   "cell_type": "code",
   "execution_count": 38,
   "metadata": {},
   "outputs": [
    {
     "name": "stdout",
     "output_type": "stream",
     "text": [
      "1/1 [==============================] - 1s 591ms/step\n",
      "Seen action: {} thanks\n",
      "1/1 [==============================] - 0s 22ms/step\n",
      "Seen action: {} thanks\n",
      "1/1 [==============================] - 0s 21ms/step\n",
      "Seen action: {} thanks\n",
      "1/1 [==============================] - 0s 24ms/step\n",
      "Seen action: {} thanks\n",
      "1/1 [==============================] - 0s 21ms/step\n",
      "Seen action: {} thanks\n",
      "1/1 [==============================] - 0s 21ms/step\n",
      "Seen action: {} thanks\n",
      "1/1 [==============================] - 0s 22ms/step\n",
      "Seen action: {} thanks\n",
      "1/1 [==============================] - 0s 21ms/step\n",
      "Seen action: {} thanks\n",
      "1/1 [==============================] - 0s 22ms/step\n",
      "Seen action: {} thanks\n",
      "1/1 [==============================] - 0s 21ms/step\n",
      "Seen action: {} thanks\n",
      "1/1 [==============================] - 0s 26ms/step\n",
      "Seen action: {} thanks\n",
      "1/1 [==============================] - 0s 23ms/step\n",
      "Seen action: {} thanks\n",
      "1/1 [==============================] - 0s 25ms/step\n",
      "Seen action: {} thanks\n",
      "1/1 [==============================] - 0s 21ms/step\n",
      "Seen action: {} thanks\n",
      "1/1 [==============================] - 0s 24ms/step\n",
      "Seen action: {} thanks\n",
      "1/1 [==============================] - 0s 24ms/step\n",
      "Seen action: {} thanks\n",
      "1/1 [==============================] - 0s 19ms/step\n",
      "Seen action: {} thanks\n",
      "1/1 [==============================] - 0s 23ms/step\n",
      "Seen action: {} thanks\n",
      "1/1 [==============================] - 0s 20ms/step\n",
      "Seen action: {} thanks\n",
      "1/1 [==============================] - 0s 18ms/step\n",
      "Seen action: {} thanks\n",
      "1/1 [==============================] - 0s 20ms/step\n",
      "Seen action: {} thanks\n",
      "1/1 [==============================] - 0s 19ms/step\n",
      "Seen action: {} thanks\n",
      "1/1 [==============================] - 0s 24ms/step\n",
      "Seen action: {} thanks\n",
      "1/1 [==============================] - 0s 21ms/step\n",
      "Seen action: {} thanks\n",
      "1/1 [==============================] - 0s 20ms/step\n",
      "Seen action: {} thanks\n",
      "1/1 [==============================] - 0s 21ms/step\n",
      "Seen action: {} thanks\n",
      "1/1 [==============================] - 0s 21ms/step\n",
      "Seen action: {} thanks\n",
      "1/1 [==============================] - 0s 20ms/step\n",
      "Seen action: {} thanks\n",
      "1/1 [==============================] - 0s 23ms/step\n",
      "Seen action: {} thanks\n",
      "1/1 [==============================] - 0s 19ms/step\n",
      "Seen action: {} thanks\n",
      "1/1 [==============================] - 0s 20ms/step\n",
      "Seen action: {} thanks\n",
      "1/1 [==============================] - 0s 20ms/step\n",
      "Seen action: {} thanks\n",
      "1/1 [==============================] - 0s 21ms/step\n",
      "Seen action: {} thanks\n",
      "1/1 [==============================] - 0s 21ms/step\n",
      "Seen action: {} thanks\n",
      "1/1 [==============================] - 0s 20ms/step\n",
      "Seen action: {} thanks\n",
      "1/1 [==============================] - 0s 19ms/step\n",
      "Seen action: {} thanks\n",
      "1/1 [==============================] - 0s 21ms/step\n",
      "Seen action: {} thanks\n",
      "1/1 [==============================] - 0s 20ms/step\n",
      "Seen action: {} thanks\n",
      "1/1 [==============================] - 0s 19ms/step\n",
      "Seen action: {} thanks\n",
      "1/1 [==============================] - 0s 19ms/step\n",
      "Seen action: {} thanks\n",
      "1/1 [==============================] - 0s 21ms/step\n",
      "Seen action: {} thanks\n",
      "1/1 [==============================] - 0s 21ms/step\n",
      "Seen action: {} thanks\n",
      "1/1 [==============================] - 0s 23ms/step\n",
      "Seen action: {} thanks\n",
      "1/1 [==============================] - 0s 20ms/step\n",
      "Seen action: {} thanks\n",
      "1/1 [==============================] - 0s 22ms/step\n",
      "Seen action: {} thanks\n",
      "1/1 [==============================] - 0s 23ms/step\n",
      "Seen action: {} thanks\n",
      "1/1 [==============================] - 0s 24ms/step\n",
      "Seen action: {} thanks\n",
      "1/1 [==============================] - 0s 21ms/step\n",
      "Seen action: {} thanks\n",
      "1/1 [==============================] - 0s 22ms/step\n",
      "Seen action: {} thanks\n",
      "1/1 [==============================] - 0s 21ms/step\n",
      "Seen action: {} thanks\n",
      "1/1 [==============================] - 0s 20ms/step\n",
      "Seen action: {} thanks\n",
      "1/1 [==============================] - 0s 21ms/step\n",
      "Seen action: {} thanks\n",
      "1/1 [==============================] - 0s 21ms/step\n",
      "Seen action: {} thanks\n",
      "1/1 [==============================] - 0s 20ms/step\n",
      "Seen action: {} thanks\n",
      "1/1 [==============================] - 0s 19ms/step\n",
      "Seen action: {} thanks\n",
      "1/1 [==============================] - 0s 21ms/step\n",
      "Seen action: {} thanks\n",
      "1/1 [==============================] - 0s 19ms/step\n",
      "Seen action: {} thanks\n",
      "1/1 [==============================] - 0s 19ms/step\n",
      "Seen action: {} thanks\n",
      "1/1 [==============================] - 0s 21ms/step\n",
      "Seen action: {} thanks\n",
      "1/1 [==============================] - 0s 20ms/step\n",
      "Seen action: {} thanks\n",
      "1/1 [==============================] - 0s 20ms/step\n",
      "Seen action: {} thanks\n",
      "1/1 [==============================] - 0s 20ms/step\n",
      "Seen action: {} thanks\n",
      "1/1 [==============================] - 0s 21ms/step\n",
      "Seen action: {} thanks\n",
      "1/1 [==============================] - 0s 21ms/step\n",
      "Seen action: {} thanks\n",
      "1/1 [==============================] - 0s 21ms/step\n",
      "Seen action: {} thanks\n",
      "1/1 [==============================] - 0s 21ms/step\n",
      "Seen action: {} thanks\n",
      "1/1 [==============================] - 0s 20ms/step\n",
      "Seen action: {} thanks\n",
      "1/1 [==============================] - 0s 24ms/step\n",
      "Seen action: {} thanks\n",
      "1/1 [==============================] - 0s 20ms/step\n",
      "Seen action: {} thanks\n",
      "1/1 [==============================] - 0s 20ms/step\n",
      "Seen action: {} thanks\n",
      "1/1 [==============================] - 0s 27ms/step\n",
      "Seen action: {} thanks\n",
      "1/1 [==============================] - 0s 20ms/step\n",
      "Seen action: {} thanks\n",
      "1/1 [==============================] - 0s 24ms/step\n",
      "Seen action: {} thanks\n",
      "1/1 [==============================] - 0s 19ms/step\n",
      "Seen action: {} thanks\n",
      "1/1 [==============================] - 0s 24ms/step\n",
      "Seen action: {} thanks\n",
      "1/1 [==============================] - 0s 21ms/step\n",
      "Seen action: {} thanks\n",
      "1/1 [==============================] - 0s 22ms/step\n",
      "Seen action: {} thanks\n",
      "1/1 [==============================] - 0s 20ms/step\n",
      "Seen action: {} thanks\n",
      "1/1 [==============================] - 0s 21ms/step\n",
      "Seen action: {} thanks\n",
      "1/1 [==============================] - 0s 26ms/step\n",
      "Seen action: {} thanks\n",
      "1/1 [==============================] - 0s 26ms/step\n",
      "Seen action: {} thanks\n",
      "1/1 [==============================] - 0s 21ms/step\n",
      "Seen action: {} thanks\n",
      "1/1 [==============================] - 0s 21ms/step\n",
      "Seen action: {} thanks\n",
      "1/1 [==============================] - 0s 22ms/step\n",
      "Seen action: {} thanks\n",
      "1/1 [==============================] - 0s 19ms/step\n",
      "Seen action: {} thanks\n",
      "1/1 [==============================] - 0s 20ms/step\n",
      "Seen action: {} thanks\n",
      "1/1 [==============================] - 0s 19ms/step\n",
      "Seen action: {} thanks\n",
      "1/1 [==============================] - 0s 19ms/step\n",
      "Seen action: {} thanks\n",
      "1/1 [==============================] - 0s 23ms/step\n",
      "Seen action: {} thanks\n",
      "test\n",
      "outputs\\test\n"
     ]
    }
   ],
   "source": [
    "# needs 30 frames to make a movement\n",
    "sequence = []\n",
    "sentence = []\n",
    "threshold = 0.4\n",
    "\n",
    "# code to access openCV\n",
    "\n",
    "cap = cv2.VideoCapture(\"../uploads/video.mp4\")  # Access video file # access video cam on device port 0\n",
    "\n",
    "# with is used to handle resource management\n",
    "# set mediapipe model\n",
    "\n",
    "# min detection is initial detection, tracking confidence is preceding tracking confidence\n",
    "# if you want higher inital confidence in answer, then increase it and vice versa\n",
    "action_list = []\n",
    "with mp_holistic.Holistic(min_detection_confidence=0.5, min_tracking_confidence=0.5) as holistic:\n",
    "\twhile cap.isOpened(): # while camera is on\n",
    "\n",
    "\t\t# Read feed (reading frame from webcam)\n",
    "\t\tret, frame = cap.read()\n",
    "\n",
    "\t\tif ret == False:\n",
    "\t\t\tbreak\n",
    "\n",
    "\t\t\n",
    "\n",
    "\t\t# make detections\n",
    "\t\timage, results = mediapipe_detection(frame, holistic)\n",
    "\t\t\n",
    "\t\t# print(results)\n",
    "\n",
    "\t\t# draw landmarks\n",
    "\t\tdraw_styled_landmarks(image, results)\n",
    "\t\t\n",
    "        # 2. prediction logic\n",
    "\t\tkeypoints = extract_keypoints(results)\n",
    "\t\tsequence.insert(0,keypoints)\n",
    "\t\tsequence = sequence[:30]\n",
    "\t\t\n",
    "\t\tif (len(sequence) == 30):\n",
    "\t\t\tres = model.predict(np.expand_dims(sequence, axis=0))[0]\n",
    "\t\t\t# expand dims allows us to test one sequence since its expecting (0, 30, 1662)\n",
    "\t\t\tprint(\"Seen action: {}\", actions[np.argmax(res)])\n",
    "\t\t\taction_list.append(actions[np.argmax(res)])\n",
    "\n",
    "\n",
    "\t\t# show frame to screen\n",
    "\t\t# cv2.imshow('OpenCV Feed', image)\n",
    "\t\t\n",
    "\t\t# break gracefully\n",
    "\t\tif cv2.waitKey(1) & 0xFF == ord('q'):\n",
    "\t\t\tbreak\n",
    "\t\t\n",
    "print(\"test\")\n",
    "OUTPUT_PATH = os.path.join(\"outputs\") \n",
    "output = os.path.join(OUTPUT_PATH, \"test\")\n",
    "print(output)\n",
    "np.save(output, action_list)\n",
    "\n",
    "# release cv2 and close all windows\n",
    "cv2.destroyAllWindows()\n",
    "cv2.waitKey(1)\n",
    "cap.release()"
   ]
  },
  {
   "cell_type": "code",
   "execution_count": null,
   "metadata": {},
   "outputs": [],
   "source": []
  }
 ],
 "metadata": {
  "kernelspec": {
   "display_name": "Python 3",
   "language": "python",
   "name": "python3"
  },
  "language_info": {
   "codemirror_mode": {
    "name": "ipython",
    "version": 3
   },
   "file_extension": ".py",
   "mimetype": "text/x-python",
   "name": "python",
   "nbconvert_exporter": "python",
   "pygments_lexer": "ipython3",
   "version": "3.11.7"
  }
 },
 "nbformat": 4,
 "nbformat_minor": 2
}
