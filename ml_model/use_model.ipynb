{
 "cells": [
  {
   "cell_type": "code",
   "execution_count": null,
   "metadata": {},
   "outputs": [],
   "source": [
    "\n",
    "!pip3 install tensorflow opencv-python mediapipe scikit-learn matplotlib"
   ]
  },
  {
   "cell_type": "code",
   "execution_count": null,
   "metadata": {},
   "outputs": [],
   "source": [
    "import cv2 \n",
    "import numpy as np \n",
    "import os # easier to acess files\n",
    "from matplotlib import pyplot as plt\n",
    "import time\n",
    "import mediapipe as mp"
   ]
  },
  {
   "cell_type": "code",
   "execution_count": null,
   "metadata": {},
   "outputs": [],
   "source": [
    "mp_holistic = mp.solutions.holistic # holistic model - make detections\n",
    "mp_drawing = mp.solutions.drawing_utils # drawing utilities - draw detections"
   ]
  },
  {
   "cell_type": "code",
   "execution_count": null,
   "metadata": {},
   "outputs": [],
   "source": [
    "# image is a photo\n",
    "# model is an mp_holisitic model\n",
    "\n",
    "# Steps to use media pipe:\n",
    "# 1. grab image and convert from bgr to rgb, then unwritable (saves memory)\n",
    "# 2. make our detection\n",
    "# 3. convert back to writeable and bgr\n",
    "\n",
    "\n",
    "\n",
    "def mediapipe_detection(image, model):\n",
    "    image = cv2.cvtColor(image, cv2.COLOR_BGR2RGB) # color conversion\n",
    "    # cv2Color converts images from one colorspace to another\n",
    "    image.flags.writeable = False\n",
    "    results = model.process(image) # make prediction from image grame\n",
    "    image.flags.writeable = True\n",
    "    image = cv2.cvtColor(image, cv2.COLOR_RGB2BGR) # color conversion\n",
    "    return image, results"
   ]
  },
  {
   "cell_type": "code",
   "execution_count": null,
   "metadata": {},
   "outputs": [],
   "source": [
    "def draw_styled_landmarks(image, results):\n",
    "    \n",
    "    mp_drawing.draw_landmarks(image, results.face_landmarks, mp_holistic.FACEMESH_TESSELATION,\n",
    "                                mp_drawing.DrawingSpec(color=(80,110,10), thickness=1, circle_radius=1),\n",
    "                                mp_drawing.DrawingSpec(color=(80,256,121), thickness=1, circle_radius=1)) # draw face connections\n",
    "    mp_drawing.draw_landmarks(image, results.pose_landmarks, mp_holistic.POSE_CONNECTIONS,\n",
    "                                mp_drawing.DrawingSpec(color=(80,110,10), thickness=2, circle_radius=4),\n",
    "                                mp_drawing.DrawingSpec(color=(80,44,121), thickness=2, circle_radius=2)) # draw face connections\n",
    "    mp_drawing.draw_landmarks(image, results.left_hand_landmarks, mp_holistic.HAND_CONNECTIONS,\n",
    "                                mp_drawing.DrawingSpec(color=(121,22,76), thickness=2, circle_radius=4),\n",
    "                                mp_drawing.DrawingSpec(color=(121,44,250), thickness=2, circle_radius=2)) # draw left hand connections\n",
    "    mp_drawing.draw_landmarks(image, results.right_hand_landmarks, mp_holistic.HAND_CONNECTIONS,\n",
    "                                mp_drawing.DrawingSpec(color=(245,117,66), thickness=2, circle_radius=4),\n",
    "                                mp_drawing.DrawingSpec(color=(245,66,230), thickness=2, circle_radius=2))"
   ]
  },
  {
   "cell_type": "code",
   "execution_count": null,
   "metadata": {},
   "outputs": [],
   "source": [
    "# # code to access openCV\n",
    "\n",
    "\n",
    "# cap = cv2.VideoCapture(0) # access video cam on device port 0\n",
    "\n",
    "# # with is used to handle resource management\n",
    "# # set mediapipe model\n",
    "\n",
    "# # min detection is initial detection, tracking confidence is preceding tracking confidence\n",
    "# # if you want higher inital confidence in answer, then increase it and vice versa\n",
    "# with mp_holistic.Holistic(min_detection_confidence=0.5, min_tracking_confidence=0.5) as holistic:\n",
    "# \twhile cap.isOpened(): # while camera is on\n",
    "\n",
    "# \t\t# Read feed (reading frame from webcam)\n",
    "# \t\tret, frame = cap.read()\n",
    "\n",
    "# \t\t# make detections\n",
    "# \t\timage, results = mediapipe_detection(frame, holistic)\n",
    "# \t\tprint(results)\n",
    "\n",
    "# \t\t# draw landmarks\n",
    "# \t\tdraw_styled_landmarks(image, results)\n",
    "\n",
    "# \t\t# show frame to screen\n",
    "# \t\tcv2.imshow('OpienCV Feed', image)\n",
    "\t\t\n",
    "# \t\t# break gracefully\n",
    "# \t\tif cv2.waitKey(1) & 0xFF == ord('q'):\n",
    "# \t\t\tbreak\n",
    "\n",
    "# # release cv2 and close all windows\n",
    "# cv2.destroyAllWindows()\n",
    "# cv2.waitKey(1)\n",
    "# cap.release()"
   ]
  },
  {
   "cell_type": "code",
   "execution_count": null,
   "metadata": {},
   "outputs": [],
   "source": [
    "# draw_landmarks(frame, results)"
   ]
  },
  {
   "cell_type": "code",
   "execution_count": null,
   "metadata": {},
   "outputs": [],
   "source": [
    "\n",
    "# plt.imshow(cv2.cvtColor(frame, cv2.COLOR_BGR2RGB))"
   ]
  },
  {
   "cell_type": "code",
   "execution_count": null,
   "metadata": {},
   "outputs": [],
   "source": [
    "# # diffe\n",
    "# results.face_landmarks"
   ]
  },
  {
   "cell_type": "markdown",
   "metadata": {},
   "source": [
    "Extract keypoint values"
   ]
  },
  {
   "cell_type": "code",
   "execution_count": null,
   "metadata": {},
   "outputs": [],
   "source": [
    "# pose = []\n",
    "# for res in results.pose_landmarks.landmark:\n",
    "#     test = np.array([res.x, res.y, res.z, res.visibility])\n",
    "#     pose.append(test)\n",
    "# for loop way of below code"
   ]
  },
  {
   "cell_type": "code",
   "execution_count": null,
   "metadata": {},
   "outputs": [],
   "source": [
    "# pose = np.array([[res.x, res.y, res.z, res.visibility] for res in results.pose_landmarks.landmark]).flatten() if results.pose_landmarks else np.zeroes(132)\n",
    "# # makes pose array with x,y,z and visibility, and makes list of lists into just a big list\n",
    "\n",
    "# # each hand has 21 landmarks; each landmark has x, y and z coordinate values each; thus empty arrays (when hand not visible) should be 21*3=63\n",
    "# lh = np.array([[res.x, res.y, res.z] for res in results.left_hand_landmarks.landmark]).flatten() if results.left_hand_landmarks else np.zeros(21*3)\n",
    "# rh = np.array([[res.x, res.y, res.z] for res in results.right_hand_landmarks.landmark]).flatten() if results.right_hand_landmarks else np.zeros(21*3)\n",
    "\n",
    "# face = np.array([[res.x, res.y, res.z] for res in results.face_landmarks.landmark]).flatten() if results.face_landmarks else np.zeros(1404)"
   ]
  },
  {
   "cell_type": "code",
   "execution_count": null,
   "metadata": {},
   "outputs": [],
   "source": [
    "def extract_keypoints(results):\n",
    "    pose = np.array([[res.x, res.y, res.z, res.visibility] for res in results.pose_landmarks.landmark]).flatten() if results.pose_landmarks else np.zeros(33*4)\n",
    "    # makes pose array with x,y,z and visibility, and makes list of lists into just a big list\n",
    "\n",
    "    # each hand has 21 landmarks; each landmark has x, y and z coordinate values each; thus empty arrays (when hand not visible) should be 21*3=63\n",
    "    lh = np.array([[res.x, res.y, res.z] for res in results.left_hand_landmarks.landmark]).flatten() if results.left_hand_landmarks else np.zeros(21*3)\n",
    "    rh = np.array([[res.x, res.y, res.z] for res in results.right_hand_landmarks.landmark]).flatten() if results.right_hand_landmarks else np.zeros(21*3)\n",
    "\n",
    "    face = np.array([[res.x, res.y, res.z] for res in results.face_landmarks.landmark]).flatten() if results.face_landmarks else np.zeros(468*3)\n",
    "    return np.concatenate([pose, face, lh, rh])"
   ]
  },
  {
   "cell_type": "code",
   "execution_count": null,
   "metadata": {},
   "outputs": [],
   "source": [
    "# extract_keypoints(results)"
   ]
  },
  {
   "cell_type": "code",
   "execution_count": null,
   "metadata": {},
   "outputs": [],
   "source": [
    "# path for exported data, numpy arrays\n",
    "DATA_PATH = os.path.join(\"MP_Data\")\n",
    "\n",
    "#Actions that we try to detect\n",
    "actions = np.array(['hello', 'thanks', 'iloveyou'])\n",
    "\n",
    "# thirty videos with of data\n",
    "no_sequences = 30\n",
    "\n",
    "# videos are going to be 30 frames of length\n",
    "sequence_length = 30\n",
    "\n",
    "#1662 datapoints, 30 "
   ]
  },
  {
   "cell_type": "code",
   "execution_count": null,
   "metadata": {},
   "outputs": [],
   "source": [
    "# # for each action we have a folder\n",
    "# # hello\n",
    "# # - each action has no_sequence folders \n",
    "# # - 0 (frame 1, frame 2, ... Frame 30)\n",
    "# # - 1\n",
    "# # - 2\n",
    "# # ... \n",
    "# # - 29\n",
    "# # - - each numbered folder will have 30 frames (30 arrays) (sequence lenght)\n",
    "\n",
    "\n",
    "# # thanks\n",
    "# # i love you\n",
    "\n",
    "\n",
    "# for action in actions:\n",
    "#     # for each action\n",
    "#     for sequence in range(no_sequences):\n",
    "#         try:\n",
    "#             # if folder already exist, will pass, else make numbered folders in action\n",
    "#             os.makedirs(os.path.join(DATA_PATH, action, str(sequence)))\n",
    "#         except:\n",
    "#             pass"
   ]
  },
  {
   "cell_type": "code",
   "execution_count": null,
   "metadata": {},
   "outputs": [],
   "source": [
    "# # code to access openCV\n",
    "\n",
    "\n",
    "# cap = cv2.VideoCapture(0) # access video cam on device port 0\n",
    "\n",
    "# # with is used to handle resource management\n",
    "# # set mediapipe model\n",
    "\n",
    "# # min detection is initial detection, tracking confidence is preceding tracking confidence\n",
    "# # if you want higher inital confidence in answer, then increase it and vice versa\n",
    "# with mp_holistic.Holistic(min_detection_confidence=0.5, min_tracking_confidence=0.5) as holistic:\n",
    "\t\n",
    "#     # replacing while cap is open\n",
    "#     for action in actions:\n",
    "#           for sequence in range(no_sequences):\n",
    "#                 for frame_num in range(sequence_length):\n",
    "#                             # Read feed (reading frame from webcam)\n",
    "#                             ret, frame = cap.read()\n",
    "\n",
    "#                             # make detections\n",
    "#                             image, results = mediapipe_detection(frame, holistic)\n",
    "#                             print(results)\n",
    "\n",
    "#                             # draw landmarks\n",
    "#                             draw_styled_landmarks(image, results)\n",
    "\n",
    "                            \n",
    "                            \n",
    "#                             # apply weight logic\n",
    "#                             if frame_num == 0:\n",
    "#                                   # image, text, position, font, font size, color\n",
    "#                                   cv2.putText(image, 'Start collection', (120, 200), \n",
    "#                                   cv2.FONT_HERSHEY_SIMPLEX, 1, (0, 255,0), 5, cv2.LINE_AA)\n",
    "#                                   cv2.putText(image, 'Collecting frames for {} Video Number {}'.format(action, sequence), (15, 50), \n",
    "#                                   cv2.FONT_HERSHEY_SIMPLEX, 1, (0, 255,0), 5, cv2.LINE_AA)\n",
    "#                                   cv2.waitKey(2000) # 2 second break\n",
    "#                             else:\n",
    "#                                   cv2.putText(image, 'Collecting frames for {} Video Number {}'.format(action, sequence), (15, 50), \n",
    "#                                   cv2.FONT_HERSHEY_SIMPLEX, 1, (0, 255,0), 5, cv2.LINE_AA)\n",
    "\n",
    "#                             # show frame to screen\n",
    "#                             cv2.imshow('OpenCV Feed', image)\n",
    "\n",
    "#                             # new -- export keypoints\n",
    "#                             keypoints = extract_keypoints(results)\n",
    "#                             npy_path = os.path.join(DATA_PATH, action, str(sequence), str(frame_num))\n",
    "#                             np.save(npy_path, keypoints)\n",
    "                            \n",
    "                            \n",
    "#                             # gracefully break\n",
    "#                             if cv2.waitKey(1) & 0xFF == ord('q'):\n",
    "#                                   break\n",
    "\n",
    "# # release cv2 and close all windows\n",
    "# cv2.destroyAllWindows()\n",
    "# cv2.waitKey(1)\n",
    "# cap.release()"
   ]
  },
  {
   "cell_type": "code",
   "execution_count": null,
   "metadata": {},
   "outputs": [],
   "source": [
    "# cap.release()\n",
    "# cv2.destroyAllWindows()"
   ]
  },
  {
   "cell_type": "code",
   "execution_count": null,
   "metadata": {},
   "outputs": [],
   "source": [
    "from sklearn.model_selection import train_test_split # used for training and testing\n",
    "from tensorflow.keras.utils import to_categorical # used to make labels"
   ]
  },
  {
   "cell_type": "code",
   "execution_count": null,
   "metadata": {},
   "outputs": [],
   "source": [
    "# label_map = {label:num for num, label in enumerate(actions)}\n",
    "# label_map"
   ]
  },
  {
   "cell_type": "code",
   "execution_count": null,
   "metadata": {},
   "outputs": [],
   "source": [
    "# sequences, labels = [], []\n",
    "# # sequences are feature data (X), labels are target data (y)\n",
    "# for action in actions:\n",
    "#     for sequence in range(no_sequences):\n",
    "#         window = [] # all frames for specific sequence (video)\n",
    "#         for frame_num in range(sequence_length):\n",
    "#             res = np.load(os.path.join(DATA_PATH, action, str(sequence), \"{}.npy\".format(frame_num)))\n",
    "#             # loads numpy frame 0, frame 1, .. \n",
    "#             window.append(res)\n",
    "#         sequences.append(window)\n",
    "#         labels.append(label_map[action])\n",
    "#         # append "
   ]
  },
  {
   "cell_type": "code",
   "execution_count": null,
   "metadata": {},
   "outputs": [],
   "source": [
    "# X = np.array(sequences) # makes to np array\n",
    "# y = to_categorical(labels).astype(int) # uses one hot encoding to prevent bias\n"
   ]
  },
  {
   "cell_type": "code",
   "execution_count": null,
   "metadata": {},
   "outputs": [],
   "source": [
    "# X_train, X_test, y_train, y_test = train_test_split(X, y, test_size=0.05) # splits data"
   ]
  },
  {
   "cell_type": "code",
   "execution_count": null,
   "metadata": {},
   "outputs": [],
   "source": [
    "# from tensorflow.keras.models import Sequential # Sequential lets you build a sequential NN\n",
    "# from tensorflow.keras.layers import LSTM, Dense # LSTM is temporal (involves time) and lets build model\n",
    "# from tensorflow.keras.callbacks import TensorBoard # allows to logging in tensor board"
   ]
  },
  {
   "cell_type": "code",
   "execution_count": null,
   "metadata": {},
   "outputs": [],
   "source": [
    "# # Tensorboard is webapp to see neural network training\n",
    "\n",
    "# log_dir = os.path.join(\"Logs\")\n",
    "# tb_callback = TensorBoard(log_dir=log_dir)"
   ]
  },
  {
   "cell_type": "code",
   "execution_count": null,
   "metadata": {},
   "outputs": [],
   "source": [
    "# model = Sequential() # easy to make neural network\n",
    "\n",
    "# # 3 sets of lstm levels \n",
    "# # first adds 64 neurons, and if it needs to pass to next level return seqs must be true, 30 frames with 1662 datapoints\n",
    "# # lstm layer is good for long term sequences\n",
    "# # dont return lstm layer on last layer\n",
    "# model.add(LSTM(64, return_sequences=True, activation='relu', input_shape=(30, 1662)))\n",
    "# model.add(LSTM(128, return_sequences=True, activation='relu'))\n",
    "# model.add(LSTM(64, return_sequences=False, activation='relu'))\n",
    "# model.add(Dense(64, activation='relu'))\n",
    "# model.add(Dense(32, activation='relu'))\n",
    "# model.add(Dense(actions.shape[0], activation='softmax'))\n",
    "\n",
    "# # actions will turn output into 3 layers, and softmax will show probabiliies from sum"
   ]
  },
  {
   "cell_type": "code",
   "execution_count": null,
   "metadata": {},
   "outputs": [],
   "source": [
    "# model.compile(optimizer='Adam', loss=\"categorical_crossentropy\", metrics=[\"categorical_accuracy\"])\n",
    "# # loss function must be categorical (when multiclass data), binary class uses binary entropy, regression is mean square error"
   ]
  },
  {
   "cell_type": "code",
   "execution_count": null,
   "metadata": {},
   "outputs": [],
   "source": [
    "# model.fit(X_train, y_train, epochs=500, callbacks=[tb_callback])"
   ]
  },
  {
   "cell_type": "code",
   "execution_count": null,
   "metadata": {},
   "outputs": [],
   "source": [
    "# model.summary()"
   ]
  },
  {
   "cell_type": "code",
   "execution_count": null,
   "metadata": {},
   "outputs": [],
   "source": [
    "# res = model.predict(X_test)\n",
    "# actions[np.argmax(res[3])]"
   ]
  },
  {
   "cell_type": "code",
   "execution_count": null,
   "metadata": {},
   "outputs": [],
   "source": [
    "# actions[np.argmax(y_test[3])]"
   ]
  },
  {
   "cell_type": "code",
   "execution_count": null,
   "metadata": {},
   "outputs": [],
   "source": [
    "# model.save('gen1.h5') # saves weights"
   ]
  },
  {
   "cell_type": "code",
   "execution_count": null,
   "metadata": {},
   "outputs": [],
   "source": [
    "# from sklearn.metrics import multilabel_confusion_matrix, accuracy_score"
   ]
  },
  {
   "cell_type": "code",
   "execution_count": null,
   "metadata": {},
   "outputs": [],
   "source": [
    "# yhat = model.predict(X_test)"
   ]
  },
  {
   "cell_type": "code",
   "execution_count": null,
   "metadata": {},
   "outputs": [],
   "source": [
    "# ytrue = np.argmax(y_test, axis=1).tolist() # conv\n",
    "# yhat = np.argmax(yhat, axis =1).tolist()"
   ]
  },
  {
   "cell_type": "code",
   "execution_count": null,
   "metadata": {},
   "outputs": [],
   "source": [
    "# multilabel_confusion_matrix(ytrue, yhat)"
   ]
  },
  {
   "cell_type": "code",
   "execution_count": null,
   "metadata": {},
   "outputs": [],
   "source": [
    "# accuracy_score(ytrue, yhat)"
   ]
  },
  {
   "cell_type": "code",
   "execution_count": null,
   "metadata": {},
   "outputs": [],
   "source": [
    "# # needs 30 frames to make a movement\n",
    "# sequence = []\n",
    "# sentence = []\n",
    "# threshold = 0.4\n",
    "\n",
    "# # code to access openCV\n",
    "\n",
    "# cap = cv2.VideoCapture(\"../uploads/video.mp4\")  # Access video file # access video cam on device port 0\n",
    "\n",
    "# # with is used to handle resource management\n",
    "# # set mediapipe model\n",
    "\n",
    "# # min detection is initial detection, tracking confidence is preceding tracking confidence\n",
    "# # if you want higher inital confidence in answer, then increase it and vice versa\n",
    "# action_list = []\n",
    "# with mp_holistic.Holistic(min_detection_confidence=0.5, min_tracking_confidence=0.5) as holistic:\n",
    "# \twhile cap.isOpened(): # while camera is on\n",
    "\n",
    "# \t\t# Read feed (reading frame from webcam)\n",
    "# \t\tret, frame = cap.read()\n",
    "\n",
    "# \t\tif ret == False:\n",
    "# \t\t\tbreak\n",
    "\n",
    "\t\t\n",
    "\n",
    "# \t\t# make detections\n",
    "# \t\timage, results = mediapipe_detection(frame, holistic)\n",
    "\t\t\n",
    "# \t\t# print(results)\n",
    "\n",
    "# \t\t# draw landmarks\n",
    "# \t\tdraw_styled_landmarks(image, results)\n",
    "\t\t\n",
    "#         # 2. prediction logic\n",
    "# \t\tkeypoints = extract_keypoints(results)\n",
    "# \t\tsequence.insert(0,keypoints)\n",
    "# \t\tsequence = sequence[:30]\n",
    "\t\t\n",
    "# \t\tif (len(sequence) == 30):\n",
    "# \t\t\tres = model.predict(np.expand_dims(sequence, axis=0))[0]\n",
    "# \t\t\t# expand dims allows us to test one sequence since its expecting (0, 30, 1662)\n",
    "# \t\t\tprint(\"Seen action: {}\", actions[np.argmax(res)])\n",
    "# \t\t\taction_list.append(actions[np.argmax(res)])\n",
    "\n",
    "\n",
    "# \t\t# show frame to screen\n",
    "# \t\t# cv2.imshow('OpenCV Feed', image)\n",
    "\t\t\n",
    "# \t\t# break gracefully\n",
    "# \t\tif cv2.waitKey(1) & 0xFF == ord('q'):\n",
    "# \t\t\tbreak\n",
    "\t\t\n",
    "# print(\"test\")\n",
    "# OUTPUT_PATH = os.path.join(\"outputs\") \n",
    "# output = os.path.join(OUTPUT_PATH, \"test\")\n",
    "# print(output)\n",
    "# np.save(output, action_list)\n",
    "\n",
    "# # release cv2 and close all windows\n",
    "# cv2.destroyAllWindows()\n",
    "# cv2.waitKey(1)\n",
    "# cap.release()"
   ]
  },
  {
   "cell_type": "code",
   "execution_count": null,
   "metadata": {},
   "outputs": [],
   "source": []
  }
 ],
 "metadata": {
  "kernelspec": {
   "display_name": "Python 3",
   "language": "python",
   "name": "python3"
  },
  "language_info": {
   "codemirror_mode": {
    "name": "ipython",
    "version": 3
   },
   "file_extension": ".py",
   "mimetype": "text/x-python",
   "name": "python",
   "nbconvert_exporter": "python",
   "pygments_lexer": "ipython3",
   "version": "3.11.6"
  }
 },
 "nbformat": 4,
 "nbformat_minor": 2
}
